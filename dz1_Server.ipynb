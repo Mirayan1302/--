{
 "cells": [
  {
   "cell_type": "code",
   "execution_count": 4,
   "metadata": {},
   "outputs": [
    {
     "name": "stdout",
     "output_type": "stream",
     "text": [
      "Client successfully connected with adress: ('127.0.0.1', 51675) !\n",
      "Received message :Hello,client!. \n",
      " From client with adress ('127.0.0.1', 51675)\n",
      "Received message :hihi. \n",
      " From client with adress ('127.0.0.1', 51675)\n"
     ]
    }
   ],
   "source": [
    "import time\n",
    "import socket\n",
    "socket_server=socket.socket()\n",
    "socket_server.bind((\"127.0.0.1\" , 8090))\n",
    "socket_server.listen(1)\n",
    "try:\n",
    "  while True:\n",
    "    client_socket,client_address=socket_server.accept()\n",
    "    client_socket.send(\"Hello, server! \".encode(\"UTF-8\"))\n",
    "    print(f\"Client successfully connected with adress: {client_address} !\")\n",
    "    while True:\n",
    "      data=client_socket.recv(1024).decode(\"UTF-8\")\n",
    "      client_socket.send(\"Message recieved! \".encode(\"UTF-8\"))\n",
    "      print(f\"Received message :{data}. \\n From client with adress {client_address}\")\n",
    "      if data=='quit':\n",
    "        break\n",
    "    client_socket.close()\n",
    "  print(f\"Client with adress {client_address} closed\")\n",
    "except KeyboardInterrupt:\n",
    "  print(\"Program shut down\")\n",
    "finally:\n",
    "  socket_server.close()\n"
   ]
  },
  {
   "cell_type": "code",
   "execution_count": null,
   "metadata": {},
   "outputs": [],
   "source": []
  }
 ],
 "metadata": {
  "kernelspec": {
   "display_name": "Python 3",
   "language": "python",
   "name": "python3"
  },
  "language_info": {
   "codemirror_mode": {
    "name": "ipython",
    "version": 3
   },
   "file_extension": ".py",
   "mimetype": "text/x-python",
   "name": "python",
   "nbconvert_exporter": "python",
   "pygments_lexer": "ipython3",
   "version": "3.9.13"
  }
 },
 "nbformat": 4,
 "nbformat_minor": 2
}
